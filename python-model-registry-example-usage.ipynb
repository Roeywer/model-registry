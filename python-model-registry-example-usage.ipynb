{
 "cells": [
  {
   "cell_type": "markdown",
   "metadata": {},
   "source": [
    "Please note this just example usage of Model Registry Python code, not desciption of all the Python framework that Model Registry offers. \n",
    "\n",
    "## Installation\n",
    "Before we can do any work with Model Registry make sure that Model registry is installed and working. The very first thing we need to do we need load the Model Registry python library "
   ]
  },
  {
   "cell_type": "code",
   "execution_count": null,
   "metadata": {
    "collapsed": true,
    "jupyter": {
     "outputs_hidden": true
    },
    "scrolled": true
   },
   "outputs": [],
   "source": [
    "%pip install --pre model-registry\n",
    "import os\n",
    "import boto3\n",
    "import urllib3"
   ]
  },
  {
   "cell_type": "markdown",
   "metadata": {},
   "source": [
    "## Set up Access to S3 for storage\n",
    "Configure the following for storing the models in S3 bucket. Currently Model Registry does not have any storage built into it, it is a index/metadata store only. providing default storage from Model Registry is on the roadmap in future versions."
   ]
  },
  {
   "cell_type": "code",
   "execution_count": 18,
   "metadata": {},
   "outputs": [],
   "source": [
    "key_id = os.getenv(\"AWS_ACCESS_KEY_ID\")\n",
    "secret_key = os.getenv(\"AWS_SECRET_ACCESS_KEY\")\n",
    "region = os.getenv(\"AWS_DEFAULT_REGION\")\n",
    "endpoint = os.getenv(\"AWS_S3_ENDPOINT\")\n",
    "bucket_name = os.getenv(\"AWS_S3_BUCKET\")"
   ]
  },
  {
   "cell_type": "code",
   "execution_count": 19,
   "metadata": {},
   "outputs": [],
   "source": [
    "workbenche_bucket = boto3.client(\n",
    "    \"s3\",\n",
    "    region,\n",
    "    aws_access_key_id=key_id,\n",
    "    aws_secret_access_key=secret_key,\n",
    "    endpoint_url=endpoint,\n",
    "    use_ssl=True,\n",
    "    verify=False\n",
    ")"
   ]
  },
  {
   "cell_type": "code",
   "execution_count": 20,
   "metadata": {},
   "outputs": [],
   "source": [
    "urllib3.disable_warnings()"
   ]
  },
  {
   "cell_type": "markdown",
   "metadata": {},
   "source": [
    "## List Files in the Bucket"
   ]
  },
  {
   "cell_type": "code",
   "execution_count": null,
   "metadata": {},
   "outputs": [],
   "source": [
    "object = workbenche_bucket.list_objects_v2(Bucket=bucket_name)\n",
    "for obj in object[\"Contents\"]:\n",
    "    print(obj[\"Key\"])"
   ]
  },
  {
   "cell_type": "markdown",
   "metadata": {},
   "source": [
    "## Import and Connect to the Model Registry\n",
    "The next is to import the Python library and connect to Model Registry before you can \"register\" a model in Model Registry. Note that there can be more than one Model Registry in given Open Data Hub cluster with varying degrees of access. You may or may not have access to all the Model Registries that are available. Some could be public registries that are available for all the users and some may be available for certain business units or teams. Your access to given registry is controlled by permissions that are granted to you. If you see any access permissions please check your permissions.\n",
    "\n",
    "First step is to find Model Registry URL to connect to, use below to find the URL"
   ]
  },
  {
   "cell_type": "markdown",
   "metadata": {},
   "source": [
    "## Connecting to Model Registry\n",
    "You can connect to a secure Model Registry using the default constructor (recommended):"
   ]
  },
  {
   "cell_type": "code",
   "execution_count": null,
   "metadata": {},
   "outputs": [],
   "source": [
    "from model_registry import ModelRegistry\n",
    "\n",
    "# connect to the Model Registry\n",
    "#registry = ModelRegistry(\"<MR-HOST>\", author=\"<USER>\", user_token=\"<TOKEN>\")\n",
    "\n",
    "registry = ModelRegistry(\"https://my-model-registry-rest.apps.ocp4.example.com\", author=\"admin\", user_token=\"sha256~ipeKcU2_xmFLs8R1MZ96lU0Is3uGIZr3MLLQimf5s\")"
   ]
  },
  {
   "cell_type": "markdown",
   "metadata": {},
   "source": [
    "# Registering models\n",
    "Use the following code to register your model in the Model Registry. Once registered, the model can be shared across teams and deployed for inference.\n",
    "\n",
    "When a model is stored in the Model Registry, it is assigned a name along with a version number that corresponds to the specific instance of the model. If you make updates or modifications to the model and create a new version, you can simply register this new version under the same model name.\n",
    "\n",
    "To uniquely identify each version of the model, it’s common for developers to use a unique identifier, such as a commit ID, that reflects the changes made in that version. The metadata can be any arbitary data that can help describe the model  "
   ]
  },
  {
   "cell_type": "code",
   "execution_count": 27,
   "metadata": {},
   "outputs": [],
   "source": [
    "from model_registry import utils\n",
    "s3_file_name = \"models/model-latest.onnx\" \n",
    "model = registry.register_model(\n",
    "    name=\"roey-model\",                          # model name\n",
    "    uri=utils.s3_uri_from(path=s3_file_name, endpoint=endpoint, bucket=bucket_name, region=region),\n",
    "    version=\"1.0.0\",                       # model version\n",
    "    description=\"This is test model for demonstration purposes\", # description of the model\n",
    "    model_format_name=\"onnx\",              # model format\n",
    "    model_format_version=\"1\",              # model format version\n",
    "    storage_key=\"workbenche_bucket\",      # S3 connection details\n",
    "    metadata={                             # look at \"introduction\" on types of metadata to capture \n",
    "        \"int_key\": 1,                      \n",
    "        \"bool_key\": False,\n",
    "        \"float_key\": 3.14,\n",
    "        \"str_key\": \"str_value\",\n",
    "    }\n",
    ")"
   ]
  },
  {
   "cell_type": "code",
   "execution_count": null,
   "metadata": {},
   "outputs": [],
   "source": [
    "\n",
    "# add labels\n",
    "model.custom_properties = {\n",
    "    \"production\": \"\",\n",
    "    \"finance\": \"\",\n",
    "}\n",
    "registry.update(model)\n",
    "\n",
    "# view the model added to the registry\n",
    "model = registry.get_registered_model(\"roey-model\")\n",
    "print(model)\n",
    "\n",
    "version = registry.get_model_version(\"roey-model\", \"1.0.0\")\n",
    "print(version)"
   ]
  }
 ],
 "metadata": {
  "kernelspec": {
   "display_name": "Python 3.11",
   "language": "python",
   "name": "python3"
  },
  "language_info": {
   "codemirror_mode": {
    "name": "ipython",
    "version": 3
   },
   "file_extension": ".py",
   "mimetype": "text/x-python",
   "name": "python",
   "nbconvert_exporter": "python",
   "pygments_lexer": "ipython3",
   "version": "3.11.7"
  }
 },
 "nbformat": 4,
 "nbformat_minor": 4
}
